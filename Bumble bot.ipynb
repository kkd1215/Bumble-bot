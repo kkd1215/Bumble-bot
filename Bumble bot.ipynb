{
 "cells": [
  {
   "cell_type": "code",
   "execution_count": null,
   "metadata": {},
   "outputs": [],
   "source": [
    "from selenium import webdriver\n",
    "from time import sleep\n",
    "from stuffs import username, password"
   ]
  },
  {
   "cell_type": "code",
   "execution_count": null,
   "metadata": {},
   "outputs": [],
   "source": [
    "class Bumblebot():\n",
    "    def __init__(self):\n",
    "        self.driver = webdriver.Chrome()\n",
    "   \n",
    "    def login(self):\n",
    "        self.driver.get('https://bumble.com/')\n",
    "        signIn_button = self.driver.find_element_by_xpath('//*[@id=\"page\"]/div/div/div[1]/div/div[2]/div/div/div/div[2]/div[1]/div/div[2]/a')    \n",
    "        signIn_button.click()\n",
    "        sleep(2)\n",
    "        Number_button = self.driver.find_element_by_xpath('//*[@id=\"main\"]/div/div/div[2]/main/div/div[2]/form/div[3]/div')    \n",
    "        Number_button.click()\n",
    "        number = self.driver.find_element_by_xpath('//*[@id=\"phone\"]').send_keys(username)\n",
    "        sleep(1)\n",
    "        cont = self.driver.find_element_by_xpath('//*[@id=\"main\"]/div/div/div[2]/main/div/div[2]/form/div[4]/button')\n",
    "        cont.click()\n",
    "        sleep(1)\n",
    "        psswd = self.driver.find_element_by_xpath('//*[@id=\"pass\"]').send_keys(password)\n",
    "        sleep(1)\n",
    "        signin = self.driver.find_element_by_xpath('//*[@id=\"main\"]/div/div[1]/div[2]/main/div/div[2]/form/div[2]/button')\n",
    "        signin.click()\n",
    "    \n",
    "    def like(self):\n",
    "        like_button = self.driver.find_element_by_xpath('//*[@id=\"main\"]/div/div[1]/main/div[2]/div/div/span/div[2]/div/div[2]/div/div[3]/div/span/span')\n",
    "        like_button.click()\n",
    "    \n",
    "    def auto_swipe(self):\n",
    "        while True:\n",
    "            sleep(1)\n",
    "            self.like()"
   ]
  },
  {
   "cell_type": "code",
   "execution_count": null,
   "metadata": {
    "scrolled": true
   },
   "outputs": [],
   "source": [
    "bot = Bumblebot()\n",
    "bot.login()\n",
    "sleep(5)\n",
    "bot.auto_swipe()"
   ]
  }
 ],
 "metadata": {
  "kernelspec": {
   "display_name": "Python 3",
   "language": "python",
   "name": "python3"
  },
  "language_info": {
   "codemirror_mode": {
    "name": "ipython",
    "version": 3
   },
   "file_extension": ".py",
   "mimetype": "text/x-python",
   "name": "python",
   "nbconvert_exporter": "python",
   "pygments_lexer": "ipython3",
   "version": "3.6.5"
  }
 },
 "nbformat": 4,
 "nbformat_minor": 2
}
